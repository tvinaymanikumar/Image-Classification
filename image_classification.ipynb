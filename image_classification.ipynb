{
  "nbformat": 4,
  "nbformat_minor": 0,
  "metadata": {
    "colab": {
      "provenance": [],
      "authorship_tag": "ABX9TyNXZqJFpaeQvNoMWvaIXSpv",
      "include_colab_link": true
    },
    "kernelspec": {
      "name": "python3",
      "display_name": "Python 3"
    },
    "language_info": {
      "name": "python"
    }
  },
  "cells": [
    {
      "cell_type": "markdown",
      "metadata": {
        "id": "view-in-github",
        "colab_type": "text"
      },
      "source": [
        "<a href=\"https://colab.research.google.com/github/tvinaymanikumar/Image-Classification/blob/main/image_classification.ipynb\" target=\"_parent\"><img src=\"https://colab.research.google.com/assets/colab-badge.svg\" alt=\"Open In Colab\"/></a>"
      ]
    },
    {
      "cell_type": "code",
      "execution_count": null,
      "metadata": {
        "id": "mLhkHzImV49A"
      },
      "outputs": [],
      "source": [
        "import numpy as np\n",
        "import pandas as pd\n",
        "import tensorflow as tf\n",
        "from tensorflow.keras import datasets,layers,models\n",
        "import matplotlib.pyplot as plt"
      ]
    },
    {
      "cell_type": "code",
      "source": [
        "(xtrain,ytrain),(xtest,ytest)=datasets.cifar10.load_data()"
      ],
      "metadata": {
        "colab": {
          "base_uri": "https://localhost:8080/"
        },
        "id": "6xc2S67MWTvJ",
        "outputId": "e4ee4eae-9b69-49e9-9fd8-3de609487e75"
      },
      "execution_count": null,
      "outputs": [
        {
          "output_type": "stream",
          "name": "stdout",
          "text": [
            "Downloading data from https://www.cs.toronto.edu/~kriz/cifar-10-python.tar.gz\n",
            "\u001b[1m170498071/170498071\u001b[0m \u001b[32m━━━━━━━━━━━━━━━━━━━━\u001b[0m\u001b[37m\u001b[0m \u001b[1m2s\u001b[0m 0us/step\n"
          ]
        }
      ]
    },
    {
      "cell_type": "code",
      "source": [
        "xtest.shape"
      ],
      "metadata": {
        "colab": {
          "base_uri": "https://localhost:8080/"
        },
        "id": "eSU-UkR7Ws4h",
        "outputId": "de65f2e0-63ac-47ae-bb14-312797d32152"
      },
      "execution_count": null,
      "outputs": [
        {
          "output_type": "execute_result",
          "data": {
            "text/plain": [
              "(10000, 32, 32, 3)"
            ]
          },
          "metadata": {},
          "execution_count": 3
        }
      ]
    },
    {
      "cell_type": "code",
      "source": [
        "xtrain.shape"
      ],
      "metadata": {
        "colab": {
          "base_uri": "https://localhost:8080/"
        },
        "id": "27aiGEVDW3oo",
        "outputId": "8133f7da-178c-4126-b152-5d0d274698a9"
      },
      "execution_count": null,
      "outputs": [
        {
          "output_type": "execute_result",
          "data": {
            "text/plain": [
              "(50000, 32, 32, 3)"
            ]
          },
          "metadata": {},
          "execution_count": 4
        }
      ]
    },
    {
      "cell_type": "code",
      "source": [
        "ytrain.shape"
      ],
      "metadata": {
        "colab": {
          "base_uri": "https://localhost:8080/"
        },
        "id": "x2vHnbH9XG8x",
        "outputId": "864cf8d4-c77f-48e9-c130-96a33a847a90"
      },
      "execution_count": null,
      "outputs": [
        {
          "output_type": "execute_result",
          "data": {
            "text/plain": [
              "(50000, 1)"
            ]
          },
          "metadata": {},
          "execution_count": 5
        }
      ]
    },
    {
      "cell_type": "code",
      "source": [
        "ytrain[:5]"
      ],
      "metadata": {
        "colab": {
          "base_uri": "https://localhost:8080/"
        },
        "id": "PP6S3XjXXRkD",
        "outputId": "7852e97a-eea8-40e0-836c-83e61b7d669d"
      },
      "execution_count": null,
      "outputs": [
        {
          "output_type": "execute_result",
          "data": {
            "text/plain": [
              "array([[6],\n",
              "       [9],\n",
              "       [9],\n",
              "       [4],\n",
              "       [1]], dtype=uint8)"
            ]
          },
          "metadata": {},
          "execution_count": 6
        }
      ]
    },
    {
      "cell_type": "code",
      "source": [
        "ytrain=ytrain.reshape(-1,)\n",
        "ytrain[:5]"
      ],
      "metadata": {
        "colab": {
          "base_uri": "https://localhost:8080/"
        },
        "id": "y3LQ61L7XbOs",
        "outputId": "7bf07501-fe1b-44ea-ff68-2377838be60a"
      },
      "execution_count": null,
      "outputs": [
        {
          "output_type": "execute_result",
          "data": {
            "text/plain": [
              "array([6, 9, 9, 4, 1], dtype=uint8)"
            ]
          },
          "metadata": {},
          "execution_count": 8
        }
      ]
    },
    {
      "cell_type": "code",
      "source": [
        "ytest=ytest.reshape(-1,)\n",
        "ytest[:5]"
      ],
      "metadata": {
        "colab": {
          "base_uri": "https://localhost:8080/"
        },
        "id": "eDKjmo59Xoy8",
        "outputId": "2d18e236-198c-4ec9-d951-0b564dd97ba6"
      },
      "execution_count": null,
      "outputs": [
        {
          "output_type": "execute_result",
          "data": {
            "text/plain": [
              "array([3, 8, 8, 0, 6], dtype=uint8)"
            ]
          },
          "metadata": {},
          "execution_count": 9
        }
      ]
    },
    {
      "cell_type": "code",
      "source": [
        "classname=[\"airplane\",\"automobile\",\"bird\",\"cat\",\"deer\",\"dog\",\"frog\",\"horse\",\"ship\",\"truck\"]"
      ],
      "metadata": {
        "id": "OVa7mXdBX8o-"
      },
      "execution_count": null,
      "outputs": []
    },
    {
      "cell_type": "code",
      "source": [
        "def example(x,y,index):\n",
        "    plt.figure(figsize=(15,2))\n",
        "    plt.imshow(x[index])\n",
        "    plt.xlabel(classname[y[index]])"
      ],
      "metadata": {
        "id": "T72fRyc9YL0c"
      },
      "execution_count": null,
      "outputs": []
    },
    {
      "cell_type": "code",
      "source": [
        "example(xtest,ytest,9)"
      ],
      "metadata": {
        "colab": {
          "base_uri": "https://localhost:8080/",
          "height": 237
        },
        "id": "EWs_GOZZYOrH",
        "outputId": "3a9284e8-fcfc-496f-f3e3-36cbc6b508ca"
      },
      "execution_count": null,
      "outputs": [
        {
          "output_type": "display_data",
          "data": {
            "text/plain": [
              "<Figure size 1500x200 with 1 Axes>"
            ],
            "image/png": "[encoded data removed]"
          },
          "metadata": {}
        }
      ]
    },
    {
      "cell_type": "code",
      "source": [
        "example(xtrain,ytrain,12)"
      ],
      "metadata": {
        "colab": {
          "base_uri": "https://localhost:8080/",
          "height": 237
        },
        "id": "458bcbWmYfEV",
        "outputId": "baa80f22-40bd-4919-c087-e0b84540cdaa"
      },
      "execution_count": null,
      "outputs": [
        {
          "output_type": "display_data",
          "data": {
            "text/plain": [
              "<Figure size 1500x200 with 1 Axes>"
            ],
            "image/png": "[encoded data removed]"
          },
          "metadata": {}
        }
      ]
    },
    {
      "cell_type": "code",
      "source": [
        "xtrain=xtrain/255\n",
        "xtest=xtest/255"
      ],
      "metadata": {
        "id": "9PIsKGjiYpgT"
      },
      "execution_count": null,
      "outputs": []
    },
    {
      "cell_type": "code",
      "source": [
        "# ANN model\n",
        "model = models.Sequential([\n",
        "    layers.Flatten(input_shape=(32,32,3)),\n",
        "    layers.Dense(3000, activation='relu'),\n",
        "    layers.Dense(1000, activation='relu'),\n",
        "    layers.Dense(10, activation='softmax')\n",
        "])\n",
        "model.compile(\n",
        "    loss='sparse_categorical_crossentropy',\n",
        "    optimizer='adam',\n",
        "    metrics=['accuracy']\n",
        ")\n",
        "model.fit(xtrain, ytrain, epochs=10, validation_data=(xtest, ytest))"
      ],
      "metadata": {
        "colab": {
          "base_uri": "https://localhost:8080/"
        },
        "id": "WcLs-7YHY1gB",
        "outputId": "a17356a2-7488-4216-b5ef-beb3327c5cf3"
      },
      "execution_count": null,
      "outputs": [
        {
          "output_type": "stream",
          "name": "stderr",
          "text": [
            "/usr/local/lib/python3.10/dist-packages/keras/src/layers/reshaping/flatten.py:37: UserWarning: Do not pass an `input_shape`/`input_dim` argument to a layer. When using Sequential models, prefer using an `Input(shape)` object as the first layer in the model instead.\n",
            "  super().__init__(**kwargs)\n"
          ]
        },
        {
          "output_type": "stream",
          "name": "stdout",
          "text": [
            "Epoch 1/10\n",
            "\u001b[1m1563/1563\u001b[0m \u001b[32m━━━━━━━━━━━━━━━━━━━━\u001b[0m\u001b[37m\u001b[0m \u001b[1m350s\u001b[0m 223ms/step - accuracy: 0.2742 - loss: 2.1923 - val_accuracy: 0.3938 - val_loss: 1.7096\n",
            "Epoch 2/10\n",
            "\u001b[1m1563/1563\u001b[0m \u001b[32m━━━━━━━━━━━━━━━━━━━━\u001b[0m\u001b[37m\u001b[0m \u001b[1m379s\u001b[0m 222ms/step - accuracy: 0.4007 - loss: 1.6735 - val_accuracy: 0.4191 - val_loss: 1.6131\n",
            "Epoch 3/10\n",
            "\u001b[1m1563/1563\u001b[0m \u001b[32m━━━━━━━━━━━━━━━━━━━━\u001b[0m\u001b[37m\u001b[0m \u001b[1m379s\u001b[0m 220ms/step - accuracy: 0.4291 - loss: 1.5932 - val_accuracy: 0.4173 - val_loss: 1.6313\n",
            "Epoch 4/10\n",
            "\u001b[1m1563/1563\u001b[0m \u001b[32m━━━━━━━━━━━━━━━━━━━━\u001b[0m\u001b[37m\u001b[0m \u001b[1m334s\u001b[0m 214ms/step - accuracy: 0.4459 - loss: 1.5370 - val_accuracy: 0.4416 - val_loss: 1.5620\n",
            "Epoch 5/10\n",
            "\u001b[1m1563/1563\u001b[0m \u001b[32m━━━━━━━━━━━━━━━━━━━━\u001b[0m\u001b[37m\u001b[0m \u001b[1m314s\u001b[0m 201ms/step - accuracy: 0.4622 - loss: 1.5038 - val_accuracy: 0.4292 - val_loss: 1.5707\n",
            "Epoch 6/10\n",
            "\u001b[1m1563/1563\u001b[0m \u001b[32m━━━━━━━━━━━━━━━━━━━━\u001b[0m\u001b[37m\u001b[0m \u001b[1m327s\u001b[0m 204ms/step - accuracy: 0.4745 - loss: 1.4654 - val_accuracy: 0.4734 - val_loss: 1.4780\n",
            "Epoch 7/10\n",
            "\u001b[1m1563/1563\u001b[0m \u001b[32m━━━━━━━━━━━━━━━━━━━━\u001b[0m\u001b[37m\u001b[0m \u001b[1m335s\u001b[0m 214ms/step - accuracy: 0.4844 - loss: 1.4355 - val_accuracy: 0.4730 - val_loss: 1.4802\n",
            "Epoch 8/10\n",
            "\u001b[1m1563/1563\u001b[0m \u001b[32m━━━━━━━━━━━━━━━━━━━━\u001b[0m\u001b[37m\u001b[0m \u001b[1m361s\u001b[0m 201ms/step - accuracy: 0.4950 - loss: 1.4124 - val_accuracy: 0.4828 - val_loss: 1.4785\n",
            "Epoch 9/10\n",
            "\u001b[1m1563/1563\u001b[0m \u001b[32m━━━━━━━━━━━━━━━━━━━━\u001b[0m\u001b[37m\u001b[0m \u001b[1m324s\u001b[0m 202ms/step - accuracy: 0.5001 - loss: 1.3908 - val_accuracy: 0.4710 - val_loss: 1.4967\n",
            "Epoch 10/10\n",
            "\u001b[1m1563/1563\u001b[0m \u001b[32m━━━━━━━━━━━━━━━━━━━━\u001b[0m\u001b[37m\u001b[0m \u001b[1m318s\u001b[0m 199ms/step - accuracy: 0.5023 - loss: 1.3841 - val_accuracy: 0.4604 - val_loss: 1.5263\n"
          ]
        },
        {
          "output_type": "execute_result",
          "data": {
            "text/plain": [
              "<keras.src.callbacks.history.History at 0x7973a9caeec0>"
            ]
          },
          "metadata": {},
          "execution_count": 17
        }
      ]
    },
    {
      "cell_type": "code",
      "source": [
        "from sklearn.metrics import confusion_matrix, classification_report\n",
        "y_pred = model.predict(xtest)\n",
        "y_pred_classes = [np.argmax(element) for element in y_pred]\n",
        "print('classification report: \\n', classification_report(ytest, y_pred_classes))"
      ],
      "metadata": {
        "colab": {
          "base_uri": "https://localhost:8080/"
        },
        "id": "tGNfZH7rombA",
        "outputId": "14383784-9c85-4de9-eda4-02e503a0ca55"
      },
      "execution_count": null,
      "outputs": [
        {
          "output_type": "stream",
          "name": "stdout",
          "text": [
            "\u001b[1m313/313\u001b[0m \u001b[32m━━━━━━━━━━━━━━━━━━━━\u001b[0m\u001b[37m\u001b[0m \u001b[1m9s\u001b[0m 28ms/step\n",
            "classification report: \n",
            "               precision    recall  f1-score   support\n",
            "\n",
            "           0       0.58      0.46      0.51      1000\n",
            "           1       0.60      0.60      0.60      1000\n",
            "           2       0.29      0.52      0.37      1000\n",
            "           3       0.33      0.34      0.34      1000\n",
            "           4       0.52      0.20      0.29      1000\n",
            "           5       0.45      0.30      0.36      1000\n",
            "           6       0.37      0.70      0.49      1000\n",
            "           7       0.62      0.42      0.50      1000\n",
            "           8       0.63      0.60      0.61      1000\n",
            "           9       0.59      0.45      0.51      1000\n",
            "\n",
            "    accuracy                           0.46     10000\n",
            "   macro avg       0.50      0.46      0.46     10000\n",
            "weighted avg       0.50      0.46      0.46     10000\n",
            "\n"
          ]
        }
      ]
    },
    {
      "cell_type": "code",
      "source": [
        "# CNN model as ANN model has less accuracy\n",
        "cnn = models. Sequential ([\n",
        "    layers.Conv2D(filters=32, kernel_size=(3, 3), activation=\"relu\", input_shape=(32, 32, 3)),\n",
        "    layers.MaxPooling2D((2, 2)),\n",
        "    layers.Conv2D(filters = 64, kernel_size=(3, 3), activation=\"relu\"),\n",
        "    layers. MaxPooling2D((2, 2)),\n",
        "    layers. Flatten(),\n",
        "    layers. Dense(64, activation='relu'),\n",
        "    layers. Dense(10, activation='softmax')\n",
        "])"
      ],
      "metadata": {
        "colab": {
          "base_uri": "https://localhost:8080/"
        },
        "id": "jrLg80F4rXEW",
        "outputId": "d3e1cdb4-76bf-431d-95b7-5165092a5da7"
      },
      "execution_count": null,
      "outputs": [
        {
          "output_type": "stream",
          "name": "stderr",
          "text": [
            "/usr/local/lib/python3.10/dist-packages/keras/src/layers/convolutional/base_conv.py:107: UserWarning: Do not pass an `input_shape`/`input_dim` argument to a layer. When using Sequential models, prefer using an `Input(shape)` object as the first layer in the model instead.\n",
            "  super().__init__(activity_regularizer=activity_regularizer, **kwargs)\n"
          ]
        }
      ]
    },
    {
      "cell_type": "code",
      "source": [
        "cnn.compile(\n",
        "    loss='sparse_categorical_crossentropy',\n",
        "    optimizer='adam',\n",
        "    metrics=['accuracy']\n",
        ")"
      ],
      "metadata": {
        "id": "qwxV0EaNrugQ"
      },
      "execution_count": null,
      "outputs": []
    },
    {
      "cell_type": "code",
      "source": [
        "history=cnn.fit(xtrain, ytrain, epochs=10, validation_data=(xtest, ytest))"
      ],
      "metadata": {
        "colab": {
          "base_uri": "https://localhost:8080/"
        },
        "id": "aETLuBA3r1xW",
        "outputId": "5e0ec841-13ba-4109-cc14-d34fead1faba"
      },
      "execution_count": null,
      "outputs": [
        {
          "output_type": "stream",
          "name": "stdout",
          "text": [
            "Epoch 1/10\n",
            "\u001b[1m1563/1563\u001b[0m \u001b[32m━━━━━━━━━━━━━━━━━━━━\u001b[0m\u001b[37m\u001b[0m \u001b[1m71s\u001b[0m 46ms/step - accuracy: 0.8264 - loss: 0.5039 - val_accuracy: 0.7074 - val_loss: 0.9456\n",
            "Epoch 2/10\n",
            "\u001b[1m1563/1563\u001b[0m \u001b[32m━━━━━━━━━━━━━━━━━━━━\u001b[0m\u001b[37m\u001b[0m \u001b[1m82s\u001b[0m 46ms/step - accuracy: 0.8384 - loss: 0.4700 - val_accuracy: 0.6969 - val_loss: 1.0137\n",
            "Epoch 3/10\n",
            "\u001b[1m1563/1563\u001b[0m \u001b[32m━━━━━━━━━━━━━━━━━━━━\u001b[0m\u001b[37m\u001b[0m \u001b[1m82s\u001b[0m 46ms/step - accuracy: 0.8514 - loss: 0.4332 - val_accuracy: 0.6923 - val_loss: 1.0310\n",
            "Epoch 4/10\n",
            "\u001b[1m1563/1563\u001b[0m \u001b[32m━━━━━━━━━━━━━━━━━━━━\u001b[0m\u001b[37m\u001b[0m \u001b[1m77s\u001b[0m 43ms/step - accuracy: 0.8602 - loss: 0.4020 - val_accuracy: 0.6795 - val_loss: 1.1087\n",
            "Epoch 5/10\n",
            "\u001b[1m1563/1563\u001b[0m \u001b[32m━━━━━━━━━━━━━━━━━━━━\u001b[0m\u001b[37m\u001b[0m \u001b[1m84s\u001b[0m 44ms/step - accuracy: 0.8692 - loss: 0.3693 - val_accuracy: 0.6948 - val_loss: 1.1094\n",
            "Epoch 6/10\n",
            "\u001b[1m1563/1563\u001b[0m \u001b[32m━━━━━━━━━━━━━━━━━━━━\u001b[0m\u001b[37m\u001b[0m \u001b[1m80s\u001b[0m 43ms/step - accuracy: 0.8834 - loss: 0.3335 - val_accuracy: 0.6859 - val_loss: 1.2134\n",
            "Epoch 7/10\n",
            "\u001b[1m1563/1563\u001b[0m \u001b[32m━━━━━━━━━━━━━━━━━━━━\u001b[0m\u001b[37m\u001b[0m \u001b[1m84s\u001b[0m 45ms/step - accuracy: 0.8906 - loss: 0.3135 - val_accuracy: 0.6990 - val_loss: 1.2330\n",
            "Epoch 8/10\n",
            "\u001b[1m1563/1563\u001b[0m \u001b[32m━━━━━━━━━━━━━━━━━━━━\u001b[0m\u001b[37m\u001b[0m \u001b[1m83s\u001b[0m 45ms/step - accuracy: 0.9045 - loss: 0.2781 - val_accuracy: 0.6912 - val_loss: 1.2888\n",
            "Epoch 9/10\n",
            "\u001b[1m1563/1563\u001b[0m \u001b[32m━━━━━━━━━━━━━━━━━━━━\u001b[0m\u001b[37m\u001b[0m \u001b[1m67s\u001b[0m 43ms/step - accuracy: 0.9098 - loss: 0.2627 - val_accuracy: 0.6953 - val_loss: 1.3273\n",
            "Epoch 10/10\n",
            "\u001b[1m1563/1563\u001b[0m \u001b[32m━━━━━━━━━━━━━━━━━━━━\u001b[0m\u001b[37m\u001b[0m \u001b[1m69s\u001b[0m 44ms/step - accuracy: 0.9160 - loss: 0.2425 - val_accuracy: 0.6912 - val_loss: 1.4528\n"
          ]
        }
      ]
    },
    {
      "cell_type": "code",
      "source": [
        "cnn.evaluate(xtest,ytest)"
      ],
      "metadata": {
        "colab": {
          "base_uri": "https://localhost:8080/"
        },
        "id": "7WozIovOvLDP",
        "outputId": "a0fdf3c6-b10f-423d-ffb4-e0fcddd8d561"
      },
      "execution_count": null,
      "outputs": [
        {
          "output_type": "stream",
          "name": "stdout",
          "text": [
            "\u001b[1m313/313\u001b[0m \u001b[32m━━━━━━━━━━━━━━━━━━━━\u001b[0m\u001b[37m\u001b[0m \u001b[1m5s\u001b[0m 15ms/step - accuracy: 0.6947 - loss: 1.4346\n"
          ]
        },
        {
          "output_type": "execute_result",
          "data": {
            "text/plain": [
              "[1.452848196029663, 0.6912000179290771]"
            ]
          },
          "metadata": {},
          "execution_count": 65
        }
      ]
    },
    {
      "cell_type": "code",
      "source": [
        "y_pred = cnn.predict(xtest)\n",
        "y_pred [:12]"
      ],
      "metadata": {
        "colab": {
          "base_uri": "https://localhost:8080/"
        },
        "id": "iSOA5cAIvwyS",
        "outputId": "92c032f7-f1fb-4c7e-e3b6-58776aa638f1"
      },
      "execution_count": null,
      "outputs": [
        {
          "output_type": "stream",
          "name": "stdout",
          "text": [
            "\u001b[1m313/313\u001b[0m \u001b[32m━━━━━━━━━━━━━━━━━━━━\u001b[0m\u001b[37m\u001b[0m \u001b[1m3s\u001b[0m 10ms/step\n"
          ]
        },
        {
          "output_type": "execute_result",
          "data": {
            "text/plain": [
              "array([[1.45720923e-03, 6.32666925e-05, 1.26270892e-03, 8.91596079e-01,\n",
              "        1.81710464e-04, 3.68336923e-02, 1.10382796e-03, 3.72016511e-05,\n",
              "        5.98342977e-02, 7.63000827e-03],\n",
              "       [4.69464940e-05, 1.83798410e-02, 2.53918997e-09, 2.83068324e-09,\n",
              "        8.75817821e-11, 4.34634342e-11, 5.38572208e-11, 3.31418261e-11,\n",
              "        9.81570661e-01, 2.56006570e-06],\n",
              "       [2.91384663e-03, 3.83965343e-01, 7.87354802e-05, 4.68646496e-04,\n",
              "        5.55636288e-05, 7.14318094e-06, 9.63706188e-05, 9.05617431e-04,\n",
              "        6.03612840e-01, 7.89590366e-03],\n",
              "       [2.37473279e-01, 7.03038939e-04, 2.94066649e-02, 1.87725629e-04,\n",
              "        3.16234957e-03, 2.95747725e-07, 3.16412625e-05, 6.95218750e-06,\n",
              "        7.29021311e-01, 6.79590175e-06],\n",
              "       [5.54941062e-06, 1.79107185e-04, 8.41587223e-03, 1.78290635e-01,\n",
              "        1.93832725e-01, 6.72224909e-03, 6.11146212e-01, 1.89470902e-05,\n",
              "        1.38749578e-03, 1.31778381e-06],\n",
              "       [7.27087958e-04, 2.53634294e-04, 9.22065135e-03, 5.33624291e-02,\n",
              "        7.43857003e-04, 1.78226773e-02, 9.15981770e-01, 7.54003355e-04,\n",
              "        8.59671913e-04, 2.74201186e-04],\n",
              "       [4.94731881e-04, 9.39433157e-01, 1.40132802e-03, 5.65340323e-03,\n",
              "        4.18415266e-06, 1.24690365e-02, 6.31835486e-04, 1.38789168e-04,\n",
              "        5.04529498e-06, 3.97686288e-02],\n",
              "       [2.25559399e-02, 6.16155958e-05, 8.43474716e-02, 7.13058487e-02,\n",
              "        5.13122678e-01, 8.80126934e-03, 2.51559019e-01, 4.48348783e-02,\n",
              "        1.03893667e-03, 2.37233727e-03],\n",
              "       [9.72143316e-04, 3.76494318e-05, 3.15102586e-03, 8.86706710e-01,\n",
              "        5.30510768e-02, 3.21645737e-02, 1.75603328e-03, 2.20725648e-02,\n",
              "        3.69742556e-05, 5.12452352e-05],\n",
              "       [3.06110410e-03, 6.72857165e-01, 2.19554262e-04, 1.29630818e-04,\n",
              "        3.57093486e-05, 2.85458555e-05, 6.90096989e-04, 6.79093500e-05,\n",
              "        8.43214148e-05, 3.22825938e-01],\n",
              "       [5.76509058e-01, 1.58463576e-04, 1.57663561e-02, 1.86816938e-02,\n",
              "        3.48116398e-01, 5.18213026e-03, 2.87495408e-04, 1.60669927e-02,\n",
              "        1.91408806e-02, 9.05213165e-05],\n",
              "       [6.38249219e-07, 5.36217231e-05, 1.24409354e-08, 9.87897852e-09,\n",
              "        1.23835345e-10, 8.49541326e-09, 2.21590746e-09, 9.07172115e-09,\n",
              "        2.08382858e-06, 9.99943554e-01]], dtype=float32)"
            ]
          },
          "metadata": {},
          "execution_count": 29
        }
      ]
    },
    {
      "cell_type": "code",
      "source": [
        "y_classes=[np.argmax(element) for element in y_pred]\n",
        "y_classes[:12]"
      ],
      "metadata": {
        "colab": {
          "base_uri": "https://localhost:8080/"
        },
        "id": "FJD5PGxnwH7x",
        "outputId": "fe42d837-0c81-4723-d5dc-3cedd58a9ce5"
      },
      "execution_count": null,
      "outputs": [
        {
          "output_type": "execute_result",
          "data": {
            "text/plain": [
              "[3, 8, 8, 8, 6, 6, 1, 4, 3, 1, 0, 9]"
            ]
          },
          "metadata": {},
          "execution_count": 30
        }
      ]
    },
    {
      "cell_type": "code",
      "source": [
        "ytest[:12]"
      ],
      "metadata": {
        "colab": {
          "base_uri": "https://localhost:8080/"
        },
        "id": "qG2qpcQVwU_L",
        "outputId": "12a189f8-071a-495a-8b0e-9abc4f4ac0b4"
      },
      "execution_count": null,
      "outputs": [
        {
          "output_type": "execute_result",
          "data": {
            "text/plain": [
              "array([3, 8, 8, 0, 6, 6, 1, 6, 3, 1, 0, 9], dtype=uint8)"
            ]
          },
          "metadata": {},
          "execution_count": 31
        }
      ]
    },
    {
      "cell_type": "code",
      "source": [
        "example(xtest, ytest, 1000)"
      ],
      "metadata": {
        "colab": {
          "base_uri": "https://localhost:8080/",
          "height": 237
        },
        "id": "x_dwxnWCwkKB",
        "outputId": "389ea6a5-560f-49d3-8dd1-62b66eb9c9f3"
      },
      "execution_count": null,
      "outputs": [
        {
          "output_type": "display_data",
          "data": {
            "text/plain": [
              "<Figure size 1500x200 with 1 Axes>"
            ],
            "image/png": "[encoded data removed]"
          },
          "metadata": {}
        }
      ]
    },
    {
      "cell_type": "code",
      "source": [
        "classname[y_classes[1000]]"
      ],
      "metadata": {
        "colab": {
          "base_uri": "https://localhost:8080/",
          "height": 36
        },
        "id": "mOUS1ZgkzBZs",
        "outputId": "72151d1a-e4f6-403f-fc4d-33fafa9d3fef"
      },
      "execution_count": null,
      "outputs": [
        {
          "output_type": "execute_result",
          "data": {
            "text/plain": [
              "'dog'"
            ],
            "application/vnd.google.colaboratory.intrinsic+json": {
              "type": "string"
            }
          },
          "metadata": {},
          "execution_count": 52
        }
      ]
    },
    {
      "cell_type": "code",
      "source": [
        "example(xtest, ytest, 3)"
      ],
      "metadata": {
        "colab": {
          "base_uri": "https://localhost:8080/",
          "height": 237
        },
        "id": "aVZoL8LazDCJ",
        "outputId": "558051c1-5570-4865-8b72-96cb1bc41205"
      },
      "execution_count": null,
      "outputs": [
        {
          "output_type": "display_data",
          "data": {
            "text/plain": [
              "<Figure size 1500x200 with 1 Axes>"
            ],
            "image/png": "[encoded data removed]"
          },
          "metadata": {}
        }
      ]
    },
    {
      "cell_type": "code",
      "source": [
        "classname[y_classes[3]]"
      ],
      "metadata": {
        "colab": {
          "base_uri": "https://localhost:8080/",
          "height": 36
        },
        "id": "oxoHGzL70ZIc",
        "outputId": "e36fd593-35b2-46f1-d870-8e678591e903"
      },
      "execution_count": null,
      "outputs": [
        {
          "output_type": "execute_result",
          "data": {
            "text/plain": [
              "'ship'"
            ],
            "application/vnd.google.colaboratory.intrinsic+json": {
              "type": "string"
            }
          },
          "metadata": {},
          "execution_count": 59
        }
      ]
    },
    {
      "cell_type": "code",
      "source": [
        "loss,acc= model.evaluate(xtest,ytest,verbose=False)"
      ],
      "metadata": {
        "id": "_ID19MzH1Rqq"
      },
      "execution_count": null,
      "outputs": []
    },
    {
      "cell_type": "code",
      "source": [
        "from sklearn.metrics import confusion_matrix, classification_report\n",
        "y_pred = cnn.predict(xtest)\n",
        "y_pred_classes = [np.argmax(element) for element in y_pred]\n",
        "print('classification report: \\n', classification_report(ytest, y_pred_classes))"
      ],
      "metadata": {
        "colab": {
          "base_uri": "https://localhost:8080/"
        },
        "id": "5L1vQMJX1XFh",
        "outputId": "abdc4093-2b1f-4c19-e6c1-0d8b3ae56989"
      },
      "execution_count": null,
      "outputs": [
        {
          "output_type": "stream",
          "name": "stdout",
          "text": [
            "\u001b[1m313/313\u001b[0m \u001b[32m━━━━━━━━━━━━━━━━━━━━\u001b[0m\u001b[37m\u001b[0m \u001b[1m3s\u001b[0m 11ms/step\n",
            "classification report: \n",
            "               precision    recall  f1-score   support\n",
            "\n",
            "           0       0.73      0.72      0.72      1000\n",
            "           1       0.79      0.84      0.81      1000\n",
            "           2       0.66      0.54      0.60      1000\n",
            "           3       0.49      0.50      0.49      1000\n",
            "           4       0.66      0.60      0.63      1000\n",
            "           5       0.57      0.63      0.60      1000\n",
            "           6       0.82      0.69      0.75      1000\n",
            "           7       0.66      0.80      0.72      1000\n",
            "           8       0.78      0.81      0.79      1000\n",
            "           9       0.76      0.79      0.78      1000\n",
            "\n",
            "    accuracy                           0.69     10000\n",
            "   macro avg       0.69      0.69      0.69     10000\n",
            "weighted avg       0.69      0.69      0.69     10000\n",
            "\n"
          ]
        }
      ]
    },
    {
      "cell_type": "code",
      "source": [
        "plt.figure(figsize=(20,5))\n",
        "plt.subplot(1,2,1)\n",
        "plt.plot(history.history['accuracy'],color = \"b\",label= \"Training Accuracy\")\n",
        "plt.plot(history.history[\"val_accuracy\"], color = \"r\", label = \"Validation Accuracy\")\n",
        "plt.legend(loc = \"lower right\")\n",
        "plt.xlabel(\"Epoch\", fontsize= 16)\n",
        "plt.ylabel(\"Accuracy\",fontsize = 16)\n",
        "plt.ylim([min(plt.ylim()),1])\n",
        "plt.title(\"Training and Test Performance Graph\", fontsize = 16)"
      ],
      "metadata": {
        "colab": {
          "base_uri": "https://localhost:8080/",
          "height": 512
        },
        "id": "xRSAOQ1r1-MV",
        "outputId": "7108c5c1-220d-474f-93d0-886e17775b0d"
      },
      "execution_count": null,
      "outputs": [
        {
          "output_type": "execute_result",
          "data": {
            "text/plain": [
              "Text(0.5, 1.0, 'Training and Test Performance Graph')"
            ]
          },
          "metadata": {},
          "execution_count": 66
        },
        {
          "output_type": "display_data",
          "data": {
            "text/plain": [
              "<Figure size 2000x500 with 1 Axes>"
            ],
            "image/png": "[encoded data removed]"
          },
          "metadata": {}
        }
      ]
    },
    {
      "cell_type": "code",
      "source": [
        "plt.figure(figsize= (20,5))\n",
        "plt.subplot(1,2,2)\n",
        "plt.plot(history.history[\"loss\"],color= \"b\",label=\"Training Loss\")\n",
        "plt.plot(history.history[\"val_loss\"],color=\"r\",label=\"Validation Loss\")\n",
        "plt.legend(loc= \"upper right\")\n",
        "plt.xlabel(\"Epoch\",fontsize=16)\n",
        "plt.ylabel(\"Loss\",fontsize = 16)\n",
        "plt.ylim([0,max(plt.ylim())])\n",
        "plt.title(\"Training and Test Loss Graph\",fontsize= 16)\n",
        "plt.show()"
      ],
      "metadata": {
        "colab": {
          "base_uri": "https://localhost:8080/",
          "height": 495
        },
        "id": "bdy8OnqC2D7v",
        "outputId": "860ad491-9724-4a5b-9549-37e67cc8b50f"
      },
      "execution_count": null,
      "outputs": [
        {
          "output_type": "display_data",
          "data": {
            "text/plain": [
              "<Figure size 2000x500 with 1 Axes>"
            ],
            "image/png": "[encoded data removed]"
          },
          "metadata": {}
        }
      ]
    }
  ]
}